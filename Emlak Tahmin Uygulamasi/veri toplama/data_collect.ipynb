{
 "cells": [
  {
   "cell_type": "code",
   "execution_count": 1,
   "id": "97b3029a-83ca-4222-86eb-8c9c57448c76",
   "metadata": {
    "tags": []
   },
   "outputs": [
    {
     "name": "stdout",
     "output_type": "stream",
     "text": [
      "Requirement already satisfied: beautifulsoup4 in c:\\users\\berkay\\anaconda3\\lib\\site-packages (4.12.2)\n",
      "Requirement already satisfied: soupsieve>1.2 in c:\\users\\berkay\\anaconda3\\lib\\site-packages (from beautifulsoup4) (2.4)\n",
      "Note: you may need to restart the kernel to use updated packages.\n"
     ]
    }
   ],
   "source": [
    "pip install beautifulsoup4"
   ]
  },
  {
   "cell_type": "code",
   "execution_count": 3,
   "id": "63fee1fb-f31e-46d2-ab23-e7d026c3f245",
   "metadata": {
    "tags": []
   },
   "outputs": [],
   "source": [
    "from bs4 import BeautifulSoup\n",
    "import requests"
   ]
  },
  {
   "cell_type": "code",
   "execution_count": 4,
   "id": "e081f004-c080-4c75-8e48-6659395af369",
   "metadata": {
    "tags": []
   },
   "outputs": [],
   "source": [
    "r = requests.get(\"https://www.emlakjet.com/kiralik-daire/istanbul/\")"
   ]
  },
  {
   "cell_type": "code",
   "execution_count": 5,
   "id": "f8c0f365-f49d-4de2-a037-f68d6e05bfe2",
   "metadata": {
    "tags": []
   },
   "outputs": [],
   "source": [
    "source = BeautifulSoup(r.content, \"lxml\")"
   ]
  },
  {
   "cell_type": "code",
   "execution_count": 6,
   "id": "d4575f52-286e-463f-8637-0e107ffda80f",
   "metadata": {
    "tags": []
   },
   "outputs": [
    {
     "name": "stdout",
     "output_type": "stream",
     "text": [
      "200\n"
     ]
    }
   ],
   "source": [
    "print(r.status_code)"
   ]
  },
  {
   "cell_type": "code",
   "execution_count": 7,
   "id": "8639ccc2-d37f-4716-a0fc-f48457585ea1",
   "metadata": {
    "tags": []
   },
   "outputs": [
    {
     "data": {
      "text/plain": [
       "<title>İstanbul Kiralık Daire Fiyatları</title>"
      ]
     },
     "execution_count": 7,
     "metadata": {},
     "output_type": "execute_result"
    }
   ],
   "source": [
    "source.title"
   ]
  },
  {
   "cell_type": "code",
   "execution_count": 8,
   "id": "28fca98b-0f79-41c6-a2c5-782b3a1e0f2e",
   "metadata": {
    "tags": []
   },
   "outputs": [
    {
     "data": {
      "text/plain": [
       "'Reklamı Kapat'"
      ]
     },
     "execution_count": 8,
     "metadata": {},
     "output_type": "execute_result"
    }
   ],
   "source": [
    "source.find(\"p\").text"
   ]
  },
  {
   "cell_type": "code",
   "execution_count": 9,
   "id": "642245a1-c126-4fc9-b376-5952715df2ec",
   "metadata": {
    "tags": []
   },
   "outputs": [],
   "source": [
    "urls = source.find_all(\"div\", attrs = {\"class\":\"_3qUI9q\"})"
   ]
  },
  {
   "cell_type": "code",
   "execution_count": 10,
   "id": "002163ee-0103-4eaa-8253-ca9a14c2b5a7",
   "metadata": {
    "tags": []
   },
   "outputs": [
    {
     "name": "stdout",
     "output_type": "stream",
     "text": [
      "YENİÖNE ÇIKAN DESTAN-916-KOCAMUSTAFAPAŞA SÜMBÜLEFENDİ CAMİ DEVAMINDA KOMBİ 2+1...homeDaireweekend2+1layersBahçe katıtexture100 m2event14 Aralık10.000 TLİstanbul - Fatih - Sümbül Efendi Mh.Karşılaştırfavorite_borderFavorilere EkleTelefona Bak\n",
      "https://www.emlakjet.com/kiralik-daire/istanbul//ilan/destan-916-kocamustafapasa-sumbulefendi-cami-devaminda-kombi-21-yaribodrum-90m2-aciklama-okuyun-14397336/\n",
      "YENİÖNE ÇIKAN BÜYÜKÇEKMECE PINARTEPE MAH 121M2 2+1 KİRALIK DAİREhomeDaireweekend2+1layers2. Kattexture121 m2event14 Aralık17.000 TLİstanbul - Büyükçekmece - Pınartepe Mh.Karşılaştırfavorite_borderFavorilere EkleTelefona Bak\n",
      "https://www.emlakjet.com/kiralik-daire/istanbul//ilan/buyukcekmece-pinartepe-mah-121m2-21-kiralik-daire-14396883/\n",
      "YENİÖNE ÇIKANTALİP YÖRÜKOĞLUN,DAN İNÖNÜ CADDESİNDE TRAMVAYA YAKIN MERKEZİ YERD...homeDaireweekend2+1layers3. Kattexture100 m2event14 Aralık12.500 TLİstanbul - Güngören - Akıncılar Mh.Karşılaştırfavorite_borderFavorilere EkleTelefona Bak\n",
      "https://www.emlakjet.com/kiralik-daire/istanbul//ilan/talip-yorukoglun-dan-inonu-caddesinde-tramvaya-yakin-merkezi-yerde-14396155/\n",
      "YENİÖNE ÇIKANİSTANBUL BAYRAMPAŞA'DA KOCATEPE MAHALLESİNDE HARİKA 3+1 DAİREhomeDaireweekend3+1layers3. Kattexture130 m2event14 Aralık17.000 TLİstanbul - Bayrampaşa - Kocatepe Mh.Karşılaştırfavorite_borderFavorilere EkleTelefona Bak\n",
      "https://www.emlakjet.com/kiralik-daire/istanbul//ilan/istanbul-bayrampasa-da-kocatepe-mahallesinde-harika-31-daire-14395972/\n",
      "YENİÖNE ÇIKAN BAKIRKÖY OSMANİYEDE 2003 YAPIMI METRO YAKINI KİRALIK DAİREhomeDaireweekend2+1layersDüz Giriş (Zemin)texture65 m2event14 Aralık15.000 TLİstanbul - Bakırköy - Osmaniye Mh.Karşılaştırfavorite_borderFavorilere EkleTelefona Bak\n",
      "https://www.emlakjet.com/kiralik-daire/istanbul//ilan/bakirkoy-osmaniyede-2003-yapimi-metro-yakini-kiralik-daire-14395799/\n",
      "YENİÖNE ÇIKANERZEN EMLAK İSTANBUL GAZİOSMANPAŞA MEYDANINDA homeDaireweekend2+1layers2. Kattexture110 m2event13 Aralık13.500 TLİstanbul - Gaziosmanpaşa - Sarıgöl Mh.Karşılaştırfavorite_borderFavorilere EkleTelefona Bak\n",
      "https://www.emlakjet.com/kiralik-daire/istanbul//ilan/erzen-emlak-istanbul-gaziosmanpasa-meydaninda-14393225/\n",
      "YENİÖNE ÇIKANESENYURT FATİH MH DEVLET HASTANESİ YANI 2+1 AYDINLIK BÜYÜK DAİREhomeDaireweekend2+1layers1. Kattexture115 m2event14 Aralık11.500 TLİstanbul - Esenyurt - Fatih Mh.Karşılaştırfavorite_borderFavorilere EkleTelefona Bak\n",
      "https://www.emlakjet.com/kiralik-daire/istanbul//ilan/esenyurt-fatih-mh-devlet-hastanesi-yani-21-aydinlik-buyuk-daire-14393164/\n",
      "YENİÖNE ÇIKAN BAŞAKŞEHİR DEPREM KONUTLARI 3+1 135m2 BOŞ DAİRE METROYA 100 MThomeDaireweekend3+1layers4. Kattexture135 m2event13 Aralık19.500 TLİstanbul - Başakşehir - Başak Mh.Karşılaştırfavorite_borderFavorilere EkleTelefona Bak\n",
      "https://www.emlakjet.com/kiralik-daire/istanbul//ilan/basaksehir-deprem-konutlari-31-135m2-bos-daire-metroya-100-mt-14393136/\n",
      "YENİÖNE ÇIKANATAŞEHİR,ŞERİFALİDE,KAMİL KOÇ'A YAKIN3+1,125 M2, E.BANYOLU,DAİREhomeDaireweekend3+1layers6. Kattexture130 m2event13 Aralık21.000 TLİstanbul - Ümraniye - Tatlısu Mh.Karşılaştırfavorite_borderFavorilere EkleTelefona Bak\n",
      "https://www.emlakjet.com/kiralik-daire/istanbul//ilan/atasehir-serifalide-kamil-koc-a-yakin31-125-m2-e-banyolu-daire-14393060/\n",
      "YENİÖNE ÇIKANYENİBOSNA FEVZİÇAKMAK MAH. 2+1 85m² KİRALIK DAİRE: SERRA GAYRİMEN...homeDaireweekend2+1layers2. Kattexture85 m2event13 Aralık15.000 TLİstanbul - Bahçelievler - Fevzi Çakmak Mh.Karşılaştırfavorite_borderFavorilere EkleTelefona Bak\n",
      "https://www.emlakjet.com/kiralik-daire/istanbul//ilan/yenibosna-fevzicakmak-mah-21-85m-kiralik-daire-serra-gayrimenkul-den-14392672/\n",
      "YENİÖNE ÇIKAN İST- SULTANGAZİ- İSMET PAŞA MAH. 2+1 130 M2 TEMİZ GENİŞ DAİREhomeDaireweekend2+1layers1. Kattexture135 m2event13 Aralık11.500 TLİstanbul - Sultangazi - İsmetpaşa Mh.Karşılaştırfavorite_borderFavorilere EkleTelefona Bak\n",
      "https://www.emlakjet.com/kiralik-daire/istanbul//ilan/ist-sultangazi-ismet-pasa-mah-21-130-m2-temiz-genis-daire-14392670/\n",
      "YENİÖNE ÇIKANBAGLARCESME MH MERKEZI KONUMDA KİRALIK 2+1 BAHCEKATI homeDaireweekend2+1layersBahçe katıtexture90 m2event14 Aralık6.500 TLİstanbul - Esenyurt - Bağlarçeşme Mh.Karşılaştırfavorite_borderFavorilere EkleTelefona Bak\n",
      "https://www.emlakjet.com/kiralik-daire/istanbul//ilan/baglarcesme-mh-merkezi-konumda-kiralik-21-bahcekati-14391717/\n",
      "YENİÖNE ÇIKAN BEYLİKDÜZÜ YAKUPLUDA KİRALIK 2+1 ARAKAT DAİREhomeDaireweekend2+1layers3. Kattexture110 m2event14 Aralık14.000 TLarrow_downwardESKİ FİYATI15.000 TLİstanbul - Beylikdüzü - Yakuplu Mh.Karşılaştırfavorite_borderFavorilere EkleTelefona Bak\n",
      "https://www.emlakjet.com/kiralik-daire/istanbul//ilan/beylikduzu-yakupluda-kiralik-21-arakat-daire-14390935/\n",
      "YENİÖNE ÇIKAN LÜX HİJYENİK GÜNLÜK KİRALIK SUİT DAİRE LOCA SUİT OTELhomeDaireweekendStüdyolayers3. Kattexture50 m2event13 Aralık1.000 TLİstanbul - Pendik - Velibaba Mh.Karşılaştırfavorite_borderFavorilere EkleTelefona Bak\n",
      "https://www.emlakjet.com/kiralik-daire/istanbul//ilan/lux-hijyenik-gunluk-kiralik-suit-daire-loca-suit-otel-14390783/\n",
      "YENİÖNE ÇIKAN BEYLİKDÜZÜ YAKUPLU MH. GENİŞ M2 KELEPİR 4+2 KİRALIK DUBLEXhomeDaireweekend4+2layers4. Kattexture145 m2event13 Aralık20.000 TLİstanbul - Beylikdüzü - Yakuplu Mh.Karşılaştırfavorite_borderFavorilere EkleTelefona Bak\n",
      "https://www.emlakjet.com/kiralik-daire/istanbul//ilan/beylikduzu-yakuplu-mh-genis-m2-kelepir-42-kiralik-dublex-14390054/\n",
      "YENİÖNE ÇIKAN ESENYURT MEHTERÇEME MH UFUK CD İÇİ YENİLENMİŞ LÜX AİLE BİNASI 2+...homeDaireweekend2+1layers1. Kattexture95 m2event14 Aralık11.500 TLİstanbul - Esenyurt - Mehmet Akif Ersoy Mh.Karşılaştırfavorite_borderFavorilere EkleTelefona Bak\n",
      "https://www.emlakjet.com/kiralik-daire/istanbul//ilan/esenyurt-mehterceme-mh-ufuk-cd-ici-yenilenmis-lux-aile-binasi-21-14389896/\n",
      "YENİÖNE ÇIKANDemirkent emlaktan eşyalı kiralık dairehomeDaireweekend4+1layers1. Kattexture150 m2event12 Aralık75.000 TLİstanbul - Bakırköy - Şenlikköy Mh.Karşılaştırfavorite_borderFavorilere EkleTelefona Bak\n",
      "https://www.emlakjet.com/kiralik-daire/istanbul//ilan/demirkent-emlaktan-esyali-kiralik-daire-14388602/\n",
      "YENİÖNE ÇIKANŞİŞLİ FULYA 4+2 DUBLEKS 250 M2 ASANSÖRLÜ MANZARALI KOMBİLİ TERASL...homeDaireweekend4+2layers6. Kattexture250 m2event14 Aralık20.000 TLİstanbul - Şişli - Fulya Mh.Karşılaştırfavorite_borderFavorilere EkleTelefona Bak\n",
      "https://www.emlakjet.com/kiralik-daire/istanbul//ilan/sisli-fulya-42-dubleks-250-m2-asansorlu-manzarali-kombili-terasli-14388572/\n",
      "YENİÖNE ÇIKANBÜYÜKÇEKMECE PINARTEPE MAHALLESİ 3+1 KİRALIK DAİREhomeDaireweekend3+1layersYüksek giriştexture160 m2event12 Aralık15.000 TLİstanbul - Büyükçekmece - Pınartepe Mh.Karşılaştırfavorite_borderFavorilere EkleTelefona Bak\n",
      "https://www.emlakjet.com/kiralik-daire/istanbul//ilan/buyukcekmece-pinartepe-mahallesi-31-kiralik-daire-14388531/\n",
      "YENİÖNE ÇIKANŞİRİNEVLER'DE EŞYALI DAİRE homeDaireweekend2+1layersYüksek giriştexture85 m2event14 Aralık15.000 TLİstanbul - Bahçelievler - Şirinevler Mh.Karşılaştırfavorite_borderFavorilere EkleTelefona Bak\n",
      "https://www.emlakjet.com/kiralik-daire/istanbul//ilan/sirinevler-de-esyali-daire-14388044/\n",
      "YENİÖNE ÇIKANKIRALIK DAİRE 2+1homeDaireweekend2+1layers2. Kattexture100 m2event12 Aralık9.000 TLİstanbul - Sultanbeyli - Turgut Reis Mh.Karşılaştırfavorite_borderFavorilere EkleTelefona Bak\n",
      "https://www.emlakjet.com/kiralik-daire/istanbul//ilan/kiralik-daire-21-14387951/\n",
      "YENİÖNE ÇIKANBAKIRKÖY MEYDANA 2 DAKİKA YÜRÜME MESAFESİNDE KİRALIK 1+1 DAİREhomeDaireweekend1 Odalayers3. Kattexture65 m2event14 Aralık18.000 TLİstanbul - Bakırköy - Cevizlik Mh.Karşılaştırfavorite_borderFavorilere EkleTelefona Bak\n",
      "https://www.emlakjet.com/kiralik-daire/istanbul//ilan/bakirkoy-meydana-2-dakika-yurume-mesafesinde-kiralik-11-daire-14387761/\n",
      "YENİÖNE ÇIKANGAZİOSMANPAŞA MERKEZ MAHALLESİ’NDE 1+1 ARAKAT KİRALIK DAİREhomeDaireweekend1 Odalayers3. Kattexture70 m2event14 Aralık10.000 TLİstanbul - Gaziosmanpaşa - Merkez Mh.Karşılaştırfavorite_borderFavorilere EkleTelefona Bak\n",
      "https://www.emlakjet.com/kiralik-daire/istanbul//ilan/gaziosmanpasa-merkez-mahallesi-nde-11-arakat-kiralik-daire-14387222/\n",
      "YENİÖNE ÇIKANeşyalı kiralık dairehomeDaireweekend2+1layersKot 3 (-3). Kattexture120 m2event13 Aralık10.000 TLİstanbul - Avcılar - Yeşilkent Mh.Karşılaştırfavorite_borderFavorilere EkleTelefona Bak\n",
      "https://www.emlakjet.com/kiralik-daire/istanbul//ilan/esyali-kiralik-daire-14386717/\n",
      "YENİÖNE ÇIKAN ESENYURT PİRİ REİS MH OLACAYPARK TA FULL EŞYALI LÜX 2+1 KİRALIKhomeDaireweekend2+1layers2. Kattexture95 m2event14 Aralık15.000 TLİstanbul - Esenyurt - Barbaros Hayrettin Paşa Mh.Karşılaştırfavorite_borderFavorilere EkleTelefona Bak\n",
      "https://www.emlakjet.com/kiralik-daire/istanbul//ilan/esenyurt-piri-reis-mh-olacaypark-ta-full-esyali-lux-21-kiralik-14386233/\n",
      "YENİÖNE ÇIKANplay_circle_outline ÖMÜR PLAZAYA VE METROBÜS YAKIN 5YILLIK BİNADA 1+1 KİRALIK DAİREhomeDaireweekend1+1layersBahçe katıtexture60 m2event12 Aralık17.000 TLİstanbul - Bahçelievler - Bahçelievler Mh.Karşılaştırfavorite_borderFavorilere EkleTelefona Bak\n",
      "https://www.emlakjet.com/kiralik-daire/istanbul//ilan/omur-plazaya-ve-metrobus-yakin-5yillik-binada-11-kiralik-daire-14386039/\n",
      "YENİÖNE ÇIKANESENYRUT MEHTERÇEME MH 3+1 DEN 2+1 E ÇEVRİLME KİRALK BÜYÜK DAİREhomeDaireweekend2+1layers2. Kattexture130 m2event14 Aralık11.000 TLİstanbul - Esenyurt - Mehmet Akif Ersoy Mh.Karşılaştırfavorite_borderFavorilere EkleTelefona Bak\n",
      "https://www.emlakjet.com/kiralik-daire/istanbul//ilan/esenyrut-mehterceme-mh-31-den-21-e-cevrilme-kiralk-buyuk-daire-14385943/\n",
      "YENİÖNE ÇIKAN YENİBOSNA İHLAS YUVA SİTESİNDE 3+1 130m2 KİRALIK DAİREhomeDaireweekend3+1layers9. Kattexture130 m2event12 Aralık20.000 TLİstanbul - Bahçelievler - Yenibosna Merkez Mh.Karşılaştırfavorite_borderFavorilere EkleTelefona Bak\n",
      "https://www.emlakjet.com/kiralik-daire/istanbul//ilan/yenibosna-ihlas-yuva-sitesinde-31-130m2-kiralik-daire-14385817/\n",
      "YENİÖNE ÇIKAN BEYLİKDÜZÜ YAKUPLU AMERKAN MUTFAK ARKA CEPHE YENİ BİNADA 2+1homeDaireweekend2+1layers1. Kattexture90 m2event14 Aralık12.000 TLİstanbul - Beylikdüzü - Yakuplu Mh.Karşılaştırfavorite_borderFavorilere EkleTelefona Bak\n",
      "https://www.emlakjet.com/kiralik-daire/istanbul//ilan/beylikduzu-yakuplu-amerkan-mutfak-arka-cephe-yeni-binada-21-14385530/\n",
      "YENİÖNE ÇIKANSULTANBEYLİ SIRYAPI İLKBAHARDA KİRALIK 2+1 DAİREhomeDaireweekend2+1layers3. Kattexture93 m2event14 Aralık17.000 TLİstanbul - Sultanbeyli - Battalgazi Mh.Karşılaştırfavorite_borderFavorilere EkleTelefona Bak\n",
      "https://www.emlakjet.com/kiralik-daire/istanbul//ilan/sultanbeyli-siryapi-ilkbaharda-kiralik-21-daire-14384789/\n"
     ]
    }
   ],
   "source": [
    "for url in urls:\n",
    "    url_home = \"https://www.emlakjet.com/kiralik-daire/istanbul/\" + url.a.get(\"href\")\n",
    "    print(url.text)\n",
    "    print(url_home)"
   ]
  }
 ],
 "metadata": {
  "kernelspec": {
   "display_name": "Python 3 (ipykernel)",
   "language": "python",
   "name": "python3"
  },
  "language_info": {
   "codemirror_mode": {
    "name": "ipython",
    "version": 3
   },
   "file_extension": ".py",
   "mimetype": "text/x-python",
   "name": "python",
   "nbconvert_exporter": "python",
   "pygments_lexer": "ipython3",
   "version": "3.11.5"
  }
 },
 "nbformat": 4,
 "nbformat_minor": 5
}
